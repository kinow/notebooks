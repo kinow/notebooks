{
 "cells": [
  {
   "cell_type": "code",
   "execution_count": 1,
   "id": "e7c2e9a2-5ca3-4cc9-9b14-e950b83ae2d2",
   "metadata": {},
   "outputs": [
    {
     "data": {
      "text/plain": [
       "'Represents a job object.\\n\\n    This is the most important class.\\n\\n    Args:\\n        name (str): The name of the job.\\n        id_ (int): The ID of the job.\\n    '"
      ]
     },
     "execution_count": 1,
     "metadata": {},
     "output_type": "execute_result"
    }
   ],
   "source": [
    "class Job:\n",
    "    \"\"\"Represents a job object.\n",
    "\n",
    "    This is the most important class.\n",
    "\n",
    "    Args:\n",
    "        name (str): The name of the job.\n",
    "        id_ (int): The ID of the job.\n",
    "    \"\"\"\n",
    "\n",
    "    some_property = False\n",
    "    \"\"\"The ``some_property`` documentation.\"\"\"\n",
    "\n",
    "    def __init__(self, name, id_):\n",
    "        self.name = name\n",
    "        self.id_ = id_\n",
    "        \n",
    "j = Job(\"test\", 123)\n",
    "\n",
    "j.__doc__"
   ]
  },
  {
   "cell_type": "code",
   "execution_count": 2,
   "id": "278d3715-f955-4344-a677-53aa6cf97361",
   "metadata": {},
   "outputs": [
    {
     "name": "stdout",
     "output_type": "stream",
     "text": [
      "Represents a job object.\n",
      "~~~\n",
      "\n",
      "This is the most important class.\n",
      "~~~\n",
      "\n",
      "Represents a job object.\n",
      "\n",
      "This is the most important class.\n",
      "~~~\n",
      "\n"
     ]
    }
   ],
   "source": [
    "from docstring_parser import parse\n",
    "docstring = parse(j.__doc__)\n",
    "\n",
    "print(docstring.short_description + \"\\n~~~\\n\")\n",
    "print(docstring.long_description + \"\\n~~~\\n\")\n",
    "print(docstring.description + \"\\n~~~\\n\")"
   ]
  },
  {
   "cell_type": "code",
   "execution_count": 3,
   "id": "aed5e438-f23c-4bbd-84d2-79c30ebf657b",
   "metadata": {},
   "outputs": [
    {
     "name": "stdout",
     "output_type": "stream",
     "text": [
      "['name, of type str, described as \"The name of the job.\"', 'id_, of type int, described as \"The ID of the job.\"']\n"
     ]
    }
   ],
   "source": [
    "print([f'{param.arg_name}, of type {param.type_name}, described as \"{param.description}\"' for param in docstring.params])"
   ]
  }
 ],
 "metadata": {
  "kernelspec": {
   "display_name": "Python 3 (ipykernel)",
   "language": "python",
   "name": "python3"
  },
  "language_info": {
   "codemirror_mode": {
    "name": "ipython",
    "version": 3
   },
   "file_extension": ".py",
   "mimetype": "text/x-python",
   "name": "python",
   "nbconvert_exporter": "python",
   "pygments_lexer": "ipython3",
   "version": "3.12.7"
  }
 },
 "nbformat": 4,
 "nbformat_minor": 5
}
