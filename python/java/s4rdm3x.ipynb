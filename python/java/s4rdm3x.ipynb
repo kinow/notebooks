{
 "cells": [
  {
   "cell_type": "markdown",
   "metadata": {},
   "source": [
    "`s4rdm3x` requires packages relationships to be defined in a `.sysmdl` file. [`jdeps`](https://docs.oracle.com/javase/8/docs/technotes/tools/unix/jdeps.html) is available in JDK 15, and can be used to help automating this step."
   ]
  },
  {
   "cell_type": "code",
   "execution_count": 1,
   "metadata": {},
   "outputs": [
    {
     "name": "stdout",
     "output_type": "stream",
     "text": [
      "commons-imaging-1.0-alpha2.jar -> java.base\n",
      "commons-imaging-1.0-alpha2.jar -> java.desktop\n",
      "commons-imaging-1.0-alpha2.jar -> java.logging\n",
      "   org.apache.commons.imaging                         -> java.awt                                           java.desktop\n",
      "   org.apache.commons.imaging                         -> java.awt.color                                     java.desktop\n",
      "   org.apache.commons.imaging                         -> java.awt.image                                     java.desktop\n",
      "   org.apache.commons.imaging                         -> java.io                                            java.base\n",
      "   org.apache.commons.imaging                         -> java.lang                                          java.base\n",
      "   org.apache.commons.imaging                         -> java.util                                          java.base\n",
      "   org.apache.commons.imaging                         -> java.util.logging                                  java.logging\n"
     ]
    }
   ],
   "source": [
    "!~/Development/java/jdk-15/bin/jdeps ~/Downloads/1.3/data/systems/commons-imaging/commons-imaging-1.0-alpha2.jar | head -n 10"
   ]
  },
  {
   "cell_type": "code",
   "execution_count": 2,
   "metadata": {},
   "outputs": [],
   "source": [
    "ref_table  = {\n",
    "    'color': 'org.apache.commons.imaging.color.*',\n",
    "    'common': 'org.apache.commons.imaging.common.*',\n",
    "    'bmp': 'org.apache.commons.imaging.formats.bmp.*',\n",
    "    'dcx': 'org.apache.commons.imaging.formats.dcx.*',\n",
    "    'gif': 'org.apache.commons.imaging.formats.gif.*',\n",
    "    'icns': 'org.apache.commons.imaging.formats.icns.*',\n",
    "    'ico': 'org.apache.commons.imaging.formats.ico.*',\n",
    "    'jpeg': 'org.apache.commons.imaging.formats.jpeg.*',\n",
    "    'pcx': 'org.apache.commons.imaging.formats.pcx.*',\n",
    "    'png': 'org.apache.commons.imaging.formats.png.*',\n",
    "    'pnm': 'org.apache.commons.imaging.formats.pnm.*',\n",
    "    'psd': 'org.apache.commons.imaging.formats.psd.*',\n",
    "    'rgbe': 'org.apache.commons.imaging.formats.rgbe.*',\n",
    "    'tiff': 'org.apache.commons.imaging.formats.tiff.*',\n",
    "    'wbmp': 'org.apache.commons.imaging.formats.wbmp.*',\n",
    "    'xbm': 'org.apache.commons.imaging.formats.xbm.*',\n",
    "    'xpm': 'org.apache.commons.imaging.formats.xpm.*',\n",
    "    'icc': 'org.apache.commons.imaging.formats.icc.*',\n",
    "    'internal': 'org.apache.commons.imaging.formats.internal.*',\n",
    "    'palette': 'org.apache.commons.imaging.formats.palette.*',\n",
    "    'base': 'org.apache.commons.imaging(?!(.common|.formats|.internal|.palette)).*'\n",
    "}"
   ]
  },
  {
   "cell_type": "code",
   "execution_count": 3,
   "metadata": {},
   "outputs": [
    {
     "data": {
      "text/plain": [
       "'org.apache.commons.imaging org.apache.commons.imaging.common\\norg.apache.commons.imaging org.apache.c'"
      ]
     },
     "execution_count": 3,
     "metadata": {},
     "output_type": "execute_result"
    }
   ],
   "source": [
    "# store the output of the shell command\n",
    "import os\n",
    "cmd = \"\"\"\n",
    "~/Development/java/jdk-15/bin/jdeps ~/Downloads/1.3/data/systems/commons-imaging/commons-imaging-1.0-alpha2.jar | sed 's/^  *//;s/ *$//' | grep \"commons-imaging-1.0-alpha2.jar\" | grep \"org.apache.commons.imaging\" | awk '{print $1 \" \" $3}'\n",
    "\"\"\"\n",
    "lines = os.popen(cmd).read()\n",
    "lines[0:100]"
   ]
  },
  {
   "cell_type": "markdown",
   "metadata": {},
   "source": [
    "Now replace the package names by their aliases, using `ref_table`."
   ]
  },
  {
   "cell_type": "code",
   "execution_count": 4,
   "metadata": {},
   "outputs": [],
   "source": [
    "import re\n",
    "from functools import lru_cache\n",
    "\n",
    "@lru_cache\n",
    "def get_module_alias(m):\n",
    "    for alias, package_regex in ref_table.items():\n",
    "        regex = re.compile(package_regex)\n",
    "        if regex.match(source_module):\n",
    "            return alias\n",
    "\n",
    "entries = []\n",
    "        \n",
    "for l in [x for x in lines.split('\\n') if x != '']:\n",
    "    source_module, target_module = l.split(' ')\n",
    "    s = get_module_alias(source_module)\n",
    "    t = get_module_alias(target_module)\n",
    "    token = f'{s} {t}'\n",
    "    if token not in entries:\n",
    "        entries.append(token)"
   ]
  },
  {
   "cell_type": "code",
   "execution_count": 5,
   "metadata": {},
   "outputs": [
    {
     "name": "stdout",
     "output_type": "stream",
     "text": [
      "base base\n",
      "base bmp\n",
      "base gif\n",
      "base jpeg\n",
      "base png\n",
      "base psd\n",
      "base tiff\n",
      "bmp base\n",
      "bmp jpeg\n",
      "common base\n",
      "jpeg base\n",
      "jpeg common\n",
      "jpeg gif\n",
      "jpeg jpeg\n",
      "jpeg tiff\n",
      "png base\n",
      "psd base\n",
      "psd gif\n",
      "psd jpeg\n",
      "psd psd\n",
      "tiff base\n",
      "tiff common\n",
      "tiff gif\n",
      "tiff jpeg\n",
      "tiff tiff\n"
     ]
    }
   ],
   "source": [
    "entries.sort()\n",
    "for e in entries:\n",
    "    print(e)"
   ]
  }
 ],
 "metadata": {
  "kernelspec": {
   "display_name": "Python 3",
   "language": "python",
   "name": "python3"
  },
  "language_info": {
   "codemirror_mode": {
    "name": "ipython",
    "version": 3
   },
   "file_extension": ".py",
   "mimetype": "text/x-python",
   "name": "python",
   "nbconvert_exporter": "python",
   "pygments_lexer": "ipython3",
   "version": "3.8.3"
  }
 },
 "nbformat": 4,
 "nbformat_minor": 4
}
